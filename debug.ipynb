{
 "cells": [
  {
   "cell_type": "code",
   "execution_count": 36,
   "id": "1ee3238c-eec5-47bb-82ec-be7ad3be5312",
   "metadata": {},
   "outputs": [
    {
     "name": "stderr",
     "output_type": "stream",
     "text": [
      "Special tokens have been added in the vocabulary, make sure the associated word embeddings are fine-tuned or trained.\n"
     ]
    },
    {
     "data": {
      "application/vnd.jupyter.widget-view+json": {
       "model_id": "549e877964a043129a7171ef3086bd72",
       "version_major": 2,
       "version_minor": 0
      },
      "text/plain": [
       "Map:   0%|          | 0/8 [00:00<?, ? examples/s]"
      ]
     },
     "metadata": {},
     "output_type": "display_data"
    },
    {
     "data": {
      "application/vnd.jupyter.widget-view+json": {
       "model_id": "295bd8aa31e24984adab397a03a828a6",
       "version_major": 2,
       "version_minor": 0
      },
      "text/plain": [
       "Map:   0%|          | 0/8 [00:00<?, ? examples/s]"
      ]
     },
     "metadata": {},
     "output_type": "display_data"
    },
    {
     "data": {
      "application/vnd.jupyter.widget-view+json": {
       "model_id": "e366938470d641cd8e39608a28d4126b",
       "version_major": 2,
       "version_minor": 0
      },
      "text/plain": [
       "Map:   0%|          | 0/8 [00:00<?, ? examples/s]"
      ]
     },
     "metadata": {},
     "output_type": "display_data"
    },
    {
     "data": {
      "application/vnd.jupyter.widget-view+json": {
       "model_id": "b0b0f71e645847bbbcd81d0ef0dea78f",
       "version_major": 2,
       "version_minor": 0
      },
      "text/plain": [
       "Map:   0%|          | 0/8 [00:00<?, ? examples/s]"
      ]
     },
     "metadata": {},
     "output_type": "display_data"
    }
   ],
   "source": [
    "import dataset\n",
    "from importlib import reload\n",
    "from transformers import T5Tokenizer\n",
    "from datasets import disable_caching\n",
    "\n",
    "disable_caching()\n",
    "reload(dataset)\n",
    "\n",
    "tokenizer = T5Tokenizer.from_pretrained(\"t5-small\")\n",
    "ds = dataset.T5Dataset(tokenizer)\n",
    "\n",
    "task_lm = ds.get_dataset(\"rte\", \"validation\", 4, max_length=16, k=4, lm_task=True)\n",
    "task = ds.get_dataset(\"rte\", \"validation\", 4, max_length=16, k=4, lm_task=False)"
   ]
  },
  {
   "cell_type": "code",
   "execution_count": 37,
   "id": "8a538a40-1933-45da-84af-a09b861f5448",
   "metadata": {},
   "outputs": [
    {
     "name": "stderr",
     "output_type": "stream",
     "text": [
      "0it [00:00, ?it/s]\n",
      "2it [00:00, 196.01it/s]\n",
      "2it [00:00, 272.59it/s]"
     ]
    },
    {
     "name": "stdout",
     "output_type": "stream",
     "text": [
      "{'input_ids': tensor([[ 7142,   536,    10,   597,  8894,    53,    12, 23970,   112,  2461,\n",
      "            13,  1849,     3,     9,  6679,     1],\n",
      "        [ 7142,   536,    10,    37, 19789,    29,  9508,    19,   237,    72,\n",
      "         19574,   250,     8,  4947,   344,     1],\n",
      "        [ 7142,   536,    10,    71,  1712,     9,    75,   120,     7,  3113,\n",
      "          2213,  4960,  1050,    19,   816,     1],\n",
      "        [ 7142,   536,    10,  1875,     3,    88,    65,   631,    13,     3,\n",
      "             9,   380,  1247,    12,    36,     1]]), 'attention_mask': tensor([[1, 1, 1, 1, 1, 1, 1, 1, 1, 1, 1, 1, 1, 1, 1, 1],\n",
      "        [1, 1, 1, 1, 1, 1, 1, 1, 1, 1, 1, 1, 1, 1, 1, 1],\n",
      "        [1, 1, 1, 1, 1, 1, 1, 1, 1, 1, 1, 1, 1, 1, 1, 1],\n",
      "        [1, 1, 1, 1, 1, 1, 1, 1, 1, 1, 1, 1, 1, 1, 1, 1]]), 'labels': tensor([[  59,  834,   35, 5756,  297,    1],\n",
      "        [   3,   35, 5756,  297,    1, -100],\n",
      "        [   3,   35, 5756,  297,    1, -100],\n",
      "        [  59,  834,   35, 5756,  297,    1]])}\n",
      "{'input_ids': tensor([[ 7142,   536,    10,   101,   669,    24,  9908, 10669,  5520,     9,\n",
      "          9920,     6,  6887,     7,    32,     1],\n",
      "        [ 7142,   536,    10,    37,   412,     5,   134,     5, 14014,   579,\n",
      "            30,  1515,   604,    12,  7457,     1],\n",
      "        [ 7142,   536,    10,     3,  6197,   566,    31,     7, 23263,  3076,\n",
      "          1487,  1690,    13,  3771,   927,     1],\n",
      "        [ 7142,   536,    10,    37,   613, 11391,  1243,    24,  1661,  8905,\n",
      "            54,  4036,     3,    18,     3,     1]]), 'attention_mask': tensor([[1, 1, 1, 1, 1, 1, 1, 1, 1, 1, 1, 1, 1, 1, 1, 1],\n",
      "        [1, 1, 1, 1, 1, 1, 1, 1, 1, 1, 1, 1, 1, 1, 1, 1],\n",
      "        [1, 1, 1, 1, 1, 1, 1, 1, 1, 1, 1, 1, 1, 1, 1, 1],\n",
      "        [1, 1, 1, 1, 1, 1, 1, 1, 1, 1, 1, 1, 1, 1, 1, 1]]), 'labels': tensor([[   3,   35, 5756,  297,    1, -100],\n",
      "        [  59,  834,   35, 5756,  297,    1],\n",
      "        [  59,  834,   35, 5756,  297,    1],\n",
      "        [   3,   35, 5756,  297,    1, -100]])}\n"
     ]
    },
    {
     "name": "stderr",
     "output_type": "stream",
     "text": [
      "\n"
     ]
    }
   ],
   "source": [
    "from tqdm import tqdm\n",
    "lm_task = True\n",
    "\n",
    "batch_iterator = tqdm(zip(task, task_lm))\n",
    "\n",
    "for batch in tqdm(batch_iterator):\n",
    "    if lm_task is True:\n",
    "        batch, batch_lm = batch\n",
    "    print(batch)"
   ]
  },
  {
   "cell_type": "code",
   "execution_count": 25,
   "id": "fa34b72d-e3fd-40c6-a3bd-8bc946bfa2a9",
   "metadata": {},
   "outputs": [],
   "source": [
    "from transformers import T5ForConditionalGeneration\n",
    "\n",
    "model = T5ForConditionalGeneration.from_pretrained(\"t5-small\")"
   ]
  },
  {
   "cell_type": "code",
   "execution_count": null,
   "id": "ca763d4a-a24a-43ad-befc-e4ed765045d5",
   "metadata": {},
   "outputs": [],
   "source": []
  }
 ],
 "metadata": {
  "kernelspec": {
   "display_name": "continual_learning",
   "language": "python",
   "name": "continual_learning"
  },
  "language_info": {
   "codemirror_mode": {
    "name": "ipython",
    "version": 3
   },
   "file_extension": ".py",
   "mimetype": "text/x-python",
   "name": "python",
   "nbconvert_exporter": "python",
   "pygments_lexer": "ipython3",
   "version": "3.12.4"
  }
 },
 "nbformat": 4,
 "nbformat_minor": 5
}
